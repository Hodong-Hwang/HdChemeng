{
 "cells": [
  {
   "cell_type": "code",
   "execution_count": 1,
   "metadata": {},
   "outputs": [],
   "source": [
    "import numpy as np"
   ]
  },
  {
   "cell_type": "code",
   "execution_count": 4,
   "metadata": {},
   "outputs": [
    {
     "name": "stdout",
     "output_type": "stream",
     "text": [
      "[[1 4 6]\n",
      " [2 5 7]]\n",
      "6\n",
      "2\n",
      "(2, 3)\n"
     ]
    }
   ],
   "source": [
    "arr2D=np.array([[1,4,6],[2,5,7]])\n",
    "print(arr2D)\n",
    "print(arr2D.size) #6\n",
    "print(arr2D.ndim) # 2 dimesion of array\n",
    "print(arr2D.shape) # 2rows and 3 colums (2,3)"
   ]
  },
  {
   "cell_type": "code",
   "execution_count": 7,
   "metadata": {},
   "outputs": [
    {
     "name": "stdout",
     "output_type": "stream",
     "text": [
      "[3 4 5] [3 5 7] [1 4 7]\n"
     ]
    }
   ],
   "source": [
    "arr1= np.arange(3,6)\n",
    "arr2 = np.arange(3,9,2)\n",
    "arr3 = np.arange(1,8,3)\n",
    "print(arr1,arr2,arr3)"
   ]
  },
  {
   "cell_type": "code",
   "execution_count": 11,
   "metadata": {},
   "outputs": [
    {
     "name": "stdout",
     "output_type": "stream",
     "text": [
      "[[1.]\n",
      " [1.]]\n",
      "[[0. 0.]\n",
      " [0. 0.]]\n",
      "[[1. 0.]\n",
      " [0. 1.]]\n",
      "[[3]\n",
      " [4]\n",
      " [5]]\n"
     ]
    }
   ],
   "source": [
    "arr4 = np.ones((2,1))\n",
    "arr5 = np.zeros((2,2))\n",
    "arr6 = np.eye(2)\n",
    "print(arr4)\n",
    "print(arr5)\n",
    "print(arr6)\n",
    "print(arr1[:,np.newaxis])"
   ]
  },
  {
   "cell_type": "code",
   "execution_count": 18,
   "metadata": {},
   "outputs": [
    {
     "name": "stdout",
     "output_type": "stream",
     "text": [
      "[3 4 5 3 5 7]\n",
      "[[3 4 5]\n",
      " [3 5 7]]\n",
      "[[0. 0.]\n",
      " [0. 0.]\n",
      " [1. 0.]\n",
      " [0. 1.]]\n",
      "[[1. 0. 0. 0.]\n",
      " [0. 1. 0. 0.]]\n"
     ]
    }
   ],
   "source": [
    "print(np.hstack((arr1,arr2)))\n",
    "print(np.vstack((arr1,arr2)))\n",
    "print(np.vstack((arr5,arr6)))\n",
    "print(np.hstack((arr6,arr5)))"
   ]
  },
  {
   "cell_type": "code",
   "execution_count": 19,
   "metadata": {},
   "outputs": [
    {
     "name": "stdout",
     "output_type": "stream",
     "text": [
      "[[0 1 2 3 4]\n",
      " [5 6 7 8 9]]\n"
     ]
    }
   ],
   "source": [
    "arr8 = np.arange(10).reshape((2,5))\n",
    "print(arr8)"
   ]
  },
  {
   "cell_type": "code",
   "execution_count": 21,
   "metadata": {},
   "outputs": [
    {
     "name": "stdout",
     "output_type": "stream",
     "text": [
      "[1 2]\n",
      "[4 9]\n"
     ]
    }
   ],
   "source": [
    "print(arr8[0,1:3])\n",
    "print(arr8[:,4])"
   ]
  },
  {
   "cell_type": "code",
   "execution_count": 23,
   "metadata": {},
   "outputs": [
    {
     "name": "stdout",
     "output_type": "stream",
     "text": [
      "[[0 1]\n",
      " [5 6]]\n",
      "[[   0    1    2    3    4]\n",
      " [   5 1000    7    8    9]]\n"
     ]
    }
   ],
   "source": [
    "arr8_sub = arr8[:,:2]\n",
    "print(arr8_sub)\n",
    "arr8_sub[1,1]=1000 # arr8 gets modified as well..\n",
    "print(arr8)"
   ]
  },
  {
   "cell_type": "code",
   "execution_count": 24,
   "metadata": {},
   "outputs": [
    {
     "name": "stdout",
     "output_type": "stream",
     "text": [
      "[[   0    1    2    3    4]\n",
      " [   5 1000    7    8    9]]\n"
     ]
    }
   ],
   "source": [
    "# To Prevent orignal value. we use copy() method.\n",
    "arr8_sub2=arr8.copy()\n",
    "arr8_sub2[1,1]=6\n",
    "print(arr8)"
   ]
  },
  {
   "cell_type": "code",
   "execution_count": 27,
   "metadata": {},
   "outputs": [
    {
     "name": "stdout",
     "output_type": "stream",
     "text": [
      "[ 6  8 10 12]\n",
      "[1, 2, 3, 4, 5, 6, 7, 8]\n",
      "8.0\n"
     ]
    }
   ],
   "source": [
    "list1=[1,2,3,4]\n",
    "list2=[5,6,7,8]\n",
    "list3=list1+list2\n",
    "vec1=np.array(list1)\n",
    "vec2=np.array(list2)\n",
    "print(vec1+vec2)\n",
    "print(list1+list2)\n",
    "vec_distance = np.sqrt(np.sum((vec1 - vec2)**2)) # vec_distance = 8.0\n",
    "print(vec_distance)"
   ]
  },
  {
   "cell_type": "code",
   "execution_count": 28,
   "metadata": {},
   "outputs": [
    {
     "name": "stdout",
     "output_type": "stream",
     "text": [
      "[[ 4  8 11]\n",
      " [ 5  9 12]]\n"
     ]
    }
   ],
   "source": [
    "arr_sum =arr2D+arr1\n",
    "print(arr_sum)"
   ]
  }
 ],
 "metadata": {
  "kernelspec": {
   "display_name": "Python 3",
   "language": "python",
   "name": "python3"
  },
  "language_info": {
   "codemirror_mode": {
    "name": "ipython",
    "version": 3
   },
   "file_extension": ".py",
   "mimetype": "text/x-python",
   "name": "python",
   "nbconvert_exporter": "python",
   "pygments_lexer": "ipython3",
   "version": "3.10.1"
  }
 },
 "nbformat": 4,
 "nbformat_minor": 2
}
