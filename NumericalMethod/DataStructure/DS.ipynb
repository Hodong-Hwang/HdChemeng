{
 "cells": [
  {
   "cell_type": "markdown",
   "metadata": {},
   "source": [
    "## Data Sturcture\n",
    "* String\n",
    "* List\n",
    "* Tuple\n",
    "* Set\n",
    "* Dictionary\n",
    "* Numpy Arrays"
   ]
  },
  {
   "cell_type": "code",
   "execution_count": 21,
   "metadata": {},
   "outputs": [
    {
     "name": "stdout",
     "output_type": "stream",
     "text": [
      "<class 'str'> <class 'str'>\n",
      "11\n",
      "W\n",
      "World\n",
      "World\n",
      "Hello\n",
      "HELLO WORLD\n",
      "0\n",
      "3\n",
      "HELLO WORLD\n",
      "HELLO Berkley\n"
     ]
    }
   ],
   "source": [
    "s = \"S\"\n",
    "w = \"Hello World\"\n",
    "print(type(s),type(w))\n",
    "print(len(w))\n",
    "print(w[6])\n",
    "print(w[6:11])\n",
    "print(w[6:])\n",
    "print(w[:5])\n",
    "w=w.upper()\n",
    "print(w)\n",
    "print(w.count(\"l\"))\n",
    "print(w.count(\"L\"))\n",
    "w=w.replace(\"World\",\"Berkley\")\n",
    "print(w)\n",
    "w=w.replace(\"WORLD\",\"Berkley\")\n",
    "print(w)"
   ]
  },
  {
   "cell_type": "code",
   "execution_count": 8,
   "metadata": {},
   "outputs": [
    {
     "name": "stdout",
     "output_type": "stream",
     "text": [
      "x = 1\n"
     ]
    }
   ],
   "source": [
    "x=1\n",
    "print(\"x = \" + str(x))"
   ]
  },
  {
   "cell_type": "code",
   "execution_count": 24,
   "metadata": {},
   "outputs": [
    {
     "name": "stdout",
     "output_type": "stream",
     "text": [
      "UC Berkeley is a great school in USA!\n",
      "UC Berkeley is a great school in USA.\n",
      "12\n"
     ]
    }
   ],
   "source": [
    "name = \"UC Berkeley\"\n",
    "country = \"USA\"\n",
    "print(\"%s is a great school in %s!\"%(name, country))\n",
    "print(f\"{name} is a great school in {country}.\")\n",
    "print(f\"{3*4}\")"
   ]
  },
  {
   "cell_type": "markdown",
   "metadata": {},
   "source": [
    "### List\n",
    "The way to define it is to use a pair of brackets [ ], and the elements within it are separated by commas. A list can hold any type of data: numerical, or strings, or other types. Lists are mutable, and their elements are usually homogeneous\n",
    "\n",
    "### Tuples\n",
    "It is usually defined by using a pair of parentheses ( ), and its elements are separated by commas. Tuples are immutable, and usually contain a heterogeneous sequence of elements that are accessed via unpacking\n",
    "\n",
    "### Set\n",
    "\n",
    "It is a type that can store an unordered collection with no duplicate elements. It can also support mathematical operations like union, intersection, difference, and symmetric difference. It is defined by using a pair of braces, { }, and its elements are separated by\n",
    "commas.\n",
    "\n",
    "### Dictionary\n"
   ]
  },
  {
   "cell_type": "code",
   "execution_count": 30,
   "metadata": {},
   "outputs": [
    {
     "name": "stdout",
     "output_type": "stream",
     "text": [
      "(1, 2, 3, 2)\n",
      "2\n"
     ]
    }
   ],
   "source": [
    "tuple_1 = (1, 2, 3, 2)\n",
    "print(tuple_1)\n",
    "print(tuple_1.count(2))"
   ]
  },
  {
   "cell_type": "code",
   "execution_count": 32,
   "metadata": {},
   "outputs": [
    {
     "name": "stdout",
     "output_type": "stream",
     "text": [
      "{1, 2, 3, 4, 5, 6}\n",
      "{1, 2, 3}\n",
      "{'a', 'B', 'n'}\n"
     ]
    }
   ],
   "source": [
    "set_1={3, 3, 2, 3, 1, 4, 5, 6, 4, 2}\n",
    "print(set_1)\n",
    "print(set(tuple_1))\n",
    "print(set(\"Banana\"))"
   ]
  },
  {
   "cell_type": "code",
   "execution_count": 35,
   "metadata": {},
   "outputs": [
    {
     "name": "stdout",
     "output_type": "stream",
     "text": [
      "{2, 4, 5, 6}\n",
      "{1, 2, 3, 4, 5, 6}\n",
      "{1, 2, 3, 4, 5, 6}\n"
     ]
    }
   ],
   "source": [
    "set_2 = set((2, 4, 6, 5, 2))\n",
    "print(set_2)\n",
    "set_1.union(set_2)\n",
    "print(set_1)"
   ]
  },
  {
   "cell_type": "code",
   "execution_count": 38,
   "metadata": {},
   "outputs": [
    {
     "name": "stdout",
     "output_type": "stream",
     "text": [
      "{2, 4, 5, 6}\n",
      "False\n"
     ]
    }
   ],
   "source": [
    "print(set_1.intersection(set_2))\n",
    "print(set_1.issubset({1, 2, 3, 3, 4, 5}))"
   ]
  },
  {
   "cell_type": "code",
   "execution_count": 44,
   "metadata": {},
   "outputs": [
    {
     "name": "stdout",
     "output_type": "stream",
     "text": [
      "3\n",
      "dict_keys(['apple', 'orange', 'pear'])\n",
      "dict_values([3, 4, 2])\n",
      "{'UC Berkeley': 'USA', 'Oxford': 'UK'}\n",
      "{'UC Berkeley': 'USA', 'Oxford': 'UK'}\n"
     ]
    }
   ],
   "source": [
    "dict_1 = {\"apple\":3, \"orange\":4, \"pear\":2}\n",
    "print(dict_1[\"apple\"])\n",
    "print(dict_1.keys())\n",
    "print(dict_1.values())\n",
    "school_dict = {}\n",
    "school_dict[\"UC Berkeley\"] = \"USA\"\n",
    "school_dict[\"Oxford\"] = \"UK\"\n",
    "print(school_dict)\n",
    "print(dict([(\"UC Berkeley\", \"USA\"), (\"Oxford\", \"UK\")]))"
   ]
  },
  {
   "cell_type": "code",
   "execution_count": 45,
   "metadata": {},
   "outputs": [
    {
     "data": {
      "text/plain": [
       "True"
      ]
     },
     "execution_count": 45,
     "metadata": {},
     "output_type": "execute_result"
    }
   ],
   "source": [
    "\"UC Berkeley\" in school_dict"
   ]
  },
  {
   "cell_type": "code",
   "execution_count": 46,
   "metadata": {},
   "outputs": [
    {
     "data": {
      "text/plain": [
       "True"
      ]
     },
     "execution_count": 46,
     "metadata": {},
     "output_type": "execute_result"
    }
   ],
   "source": [
    "\"Harvard\" not in school_dict"
   ]
  },
  {
   "cell_type": "code",
   "execution_count": 47,
   "metadata": {},
   "outputs": [
    {
     "data": {
      "text/plain": [
       "['UC Berkeley', 'Oxford']"
      ]
     },
     "execution_count": 47,
     "metadata": {},
     "output_type": "execute_result"
    }
   ],
   "source": [
    "list(school_dict) # key to list"
   ]
  },
  {
   "cell_type": "code",
   "execution_count": 51,
   "metadata": {},
   "outputs": [
    {
     "name": "stdout",
     "output_type": "stream",
     "text": [
      "[4 5 9]\n",
      "[1 2 0 0 0 3]\n"
     ]
    }
   ],
   "source": [
    "import numpy as np\n",
    "x = np.array([1, 2, 4, 5, 9, 3])\n",
    "print(x[x>3])\n",
    "x[x>3]=0\n",
    "print(x)"
   ]
  }
 ],
 "metadata": {
  "kernelspec": {
   "display_name": "Python 3",
   "language": "python",
   "name": "python3"
  },
  "language_info": {
   "codemirror_mode": {
    "name": "ipython",
    "version": 3
   },
   "file_extension": ".py",
   "mimetype": "text/x-python",
   "name": "python",
   "nbconvert_exporter": "python",
   "pygments_lexer": "ipython3",
   "version": "3.10.1"
  }
 },
 "nbformat": 4,
 "nbformat_minor": 2
}
