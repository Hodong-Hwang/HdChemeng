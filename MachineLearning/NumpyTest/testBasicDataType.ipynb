{
 "cells": [
  {
   "cell_type": "markdown",
   "metadata": {},
   "source": [
    "Data Structure"
   ]
  },
  {
   "cell_type": "code",
   "execution_count": 2,
   "metadata": {},
   "outputs": [],
   "source": [
    "i=2\n",
    "f=1.2\n",
    "s='two'\n",
    "b=True"
   ]
  },
  {
   "cell_type": "code",
   "execution_count": 3,
   "metadata": {},
   "outputs": [
    {
     "name": "stdout",
     "output_type": "stream",
     "text": [
      "4\n",
      "2.4\n"
     ]
    }
   ],
   "source": [
    "print(i+2)\n",
    "print(f*2)"
   ]
  },
  {
   "cell_type": "code",
   "execution_count": 5,
   "metadata": {},
   "outputs": [
    {
     "name": "stdout",
     "output_type": "stream",
     "text": [
      "[2, 4, 6] ['air', 3, 1, 5] [0, 1, 2, 3] [2, 4, 6, 'air', 3, 1, 5] [['air', 3, 1, 5], [0, 1, 2, 3]]\n"
     ]
    }
   ],
   "source": [
    "list1=[2,4,6]\n",
    "list2=['air',3,1,5]\n",
    "list3 = list(range(4))\n",
    "list4=list1+list2\n",
    "list5=[list2,list3]\n",
    "print(list1,list2,list3,list4,list5)"
   ]
  },
  {
   "cell_type": "code",
   "execution_count": 7,
   "metadata": {},
   "outputs": [
    {
     "name": "stdout",
     "output_type": "stream",
     "text": [
      "(0, 1, 'two') ([2, 4, 6], ['air', 3, 1, 5])\n"
     ]
    }
   ],
   "source": [
    "tuple1=(0,1,'two')\n",
    "tuple2=(list1,list2)\n",
    "print(tuple1,tuple2)"
   ]
  },
  {
   "cell_type": "code",
   "execution_count": null,
   "metadata": {},
   "outputs": [],
   "source": [
    "newList1=[item**2 for item in list3]\n",
    "newList2=[item2**2 for item2 in [item**2 for item in list3] ]\n",
    "print(newList1,newList2)"
   ]
  }
 ],
 "metadata": {
  "kernelspec": {
   "display_name": "Python 3",
   "language": "python",
   "name": "python3"
  },
  "language_info": {
   "codemirror_mode": {
    "name": "ipython",
    "version": 3
   },
   "file_extension": ".py",
   "mimetype": "text/x-python",
   "name": "python",
   "nbconvert_exporter": "python",
   "pygments_lexer": "ipython3",
   "version": "3.10.1"
  }
 },
 "nbformat": 4,
 "nbformat_minor": 2
}
