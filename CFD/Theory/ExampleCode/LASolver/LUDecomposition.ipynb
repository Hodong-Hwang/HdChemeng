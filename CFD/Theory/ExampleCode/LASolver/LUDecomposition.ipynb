{
 "cells": [
  {
   "cell_type": "code",
   "execution_count": 1,
   "metadata": {},
   "outputs": [
    {
     "name": "stdout",
     "output_type": "stream",
     "text": [
      "Solution: [5. 5. 5. 5.]\n"
     ]
    }
   ],
   "source": [
    "import numpy as np\n",
    "\n",
    "def lu_decomposition(A):\n",
    "    \"\"\"LU 분해 수행.\"\"\"\n",
    "    n = A.shape[0]\n",
    "    L = np.zeros_like(A)\n",
    "    U = np.zeros_like(A)\n",
    "\n",
    "    for i in range(n):\n",
    "        # U 행렬 계산\n",
    "        for j in range(i, n):\n",
    "            sum_ = sum(L[i][k] * U[k][j] for k in range(i))\n",
    "            U[i][j] = A[i][j] - sum_\n",
    "        \n",
    "        # L 행렬 계산\n",
    "        L[i][i] = 1  # 대각 성분은 1로 설정\n",
    "        for j in range(i + 1, n):\n",
    "            sum_ = sum(L[j][k] * U[k][i] for k in range(i))\n",
    "            L[j][i] = (A[j][i] - sum_) / U[i][i]\n",
    "    \n",
    "    return L, U\n",
    "\n",
    "def forward_substitution(L, b):\n",
    "    \"\"\"전방 대입을 통해 Ly = b를 풀이.\"\"\"\n",
    "    n = len(b)\n",
    "    y = np.zeros_like(b)\n",
    "    for i in range(n):\n",
    "        y[i] = b[i] - np.dot(L[i, :i], y[:i])\n",
    "    return y\n",
    "\n",
    "def backward_substitution(U, y):\n",
    "    \"\"\"후방 대입을 통해 Ux = y를 풀이.\"\"\"\n",
    "    n = len(y)\n",
    "    x = np.zeros_like(y)\n",
    "    for i in range(n - 1, -1, -1):\n",
    "        x[i] = (y[i] - np.dot(U[i, i + 1:], x[i + 1:])) / U[i, i]\n",
    "    return x\n",
    "\n",
    "def solve_with_stones_method(A, b):\n",
    "    \"\"\"Stone's Method로 Ax = b 풀이.\"\"\"\n",
    "    # LU 분해 수행\n",
    "    L, U = lu_decomposition(A)\n",
    "    \n",
    "    # 전방 대입을 통해 Ly = b 풀이\n",
    "    y = forward_substitution(L, b)\n",
    "    \n",
    "    # 후방 대입을 통해 Ux = y 풀이\n",
    "    x = backward_substitution(U, y)\n",
    "    \n",
    "    return x\n",
    "\n",
    "# 예제 행렬 A와 벡터 b\n",
    "A = np.array([\n",
    "    [4, -1, 0, 0],\n",
    "    [-1, 4, -1, 0],\n",
    "    [0, -1, 4, -1],\n",
    "    [0, 0, -1, 3]\n",
    "], dtype=float)\n",
    "\n",
    "b = np.array([15, 10, 10, 10], dtype=float)\n",
    "\n",
    "# Stone's Method로 Ax = b 풀이\n",
    "solution = solve_with_stones_method(A, b)\n",
    "\n",
    "print(\"Solution:\", solution)\n"
   ]
  }
 ],
 "metadata": {
  "kernelspec": {
   "display_name": "Python 3",
   "language": "python",
   "name": "python3"
  },
  "language_info": {
   "codemirror_mode": {
    "name": "ipython",
    "version": 3
   },
   "file_extension": ".py",
   "mimetype": "text/x-python",
   "name": "python",
   "nbconvert_exporter": "python",
   "pygments_lexer": "ipython3",
   "version": "3.10.1"
  }
 },
 "nbformat": 4,
 "nbformat_minor": 2
}
